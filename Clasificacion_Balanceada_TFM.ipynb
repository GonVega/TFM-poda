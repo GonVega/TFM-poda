{
  "cells": [
    {
      "cell_type": "markdown",
      "metadata": {
        "id": "4c8j0X8eOD8T"
      },
      "source": [
        "# Ejemplo: Poda de Árboles de Decisión\n",
        "\n",
        "Este notebook demuestra el proceso de optimización de árboles de decisión generados a partir de redes neuronales, aplicando dos métodos de post-poda:\n",
        "\n",
        "1. **Post-poda clásica**: Conservadora, mantiene la precisión\n",
        "2. **Poda greedy para velocidad**: Agresiva, permite pequeña pérdida de precisión\n",
        "\n",
        "## Objetivos\n",
        "- Reducir la complejidad del árbol\n",
        "- Mantener la precisión del modelo\n",
        "- Acelerar la inferencia\n",
        "- Mejorar la interpretabilidad"
      ]
    },
    {
      "cell_type": "code",
      "metadata": {
        "id": "e1c30737"
      },
      "source": [
        "# Instalar dependencias desde requirements.txt\n",
        "!pip install -r requirements.txt"
      ],
      "execution_count": null,
      "outputs": []
    },
    {
      "cell_type": "markdown",
      "metadata": {
        "id": "ocg69I9FOD8V"
      },
      "source": [
        "## 1. Importaciones y Configuración"
      ]
    },
    {
      "cell_type": "code",
      "execution_count": 1,
      "metadata": {
        "id": "XyDhAZdCOD8W",
        "colab": {
          "base_uri": "https://localhost:8080/"
        },
        "outputId": "9f2ec865-7475-46e0-c145-9c4d11a2a840"
      },
      "outputs": [
        {
          "output_type": "stream",
          "name": "stdout",
          "text": [
            "Todas las librerías importadas correctamente\n"
          ]
        }
      ],
      "source": [
        "import pandas as pd\n",
        "import numpy as np\n",
        "from sklearn.model_selection import train_test_split\n",
        "from sklearn.preprocessing import StandardScaler\n",
        "from tensorflow import keras\n",
        "import time\n",
        "from nndt_lib.binary_tree import Tree\n",
        "from nndt_lib.post_pruning import post_prune_tree\n",
        "from nndt_lib.prune_for_speed import prune_tree_for_speed\n",
        "from sklearn.metrics import confusion_matrix\n",
        "import matplotlib.pyplot as plt\n",
        "import seaborn as sns\n",
        "\n",
        "# Configurar estilo de gráficos\n",
        "plt.style.use('default')\n",
        "sns.set_palette(\"husl\")\n",
        "\n",
        "print(\"Todas las librerías importadas correctamente\")"
      ]
    },
    {
      "cell_type": "markdown",
      "metadata": {
        "id": "27UBOgxvOD8W"
      },
      "source": [
        "## 2. Funciones Auxiliares\n",
        "\n",
        "Definimos funciones útiles para el análisis del árbol:"
      ]
    },
    {
      "cell_type": "code",
      "execution_count": 2,
      "metadata": {
        "id": "0DJSl5JqOD8X",
        "colab": {
          "base_uri": "https://localhost:8080/"
        },
        "outputId": "a26de4a6-3bff-43d1-ea41-299d59850344"
      },
      "outputs": [
        {
          "output_type": "stream",
          "name": "stdout",
          "text": [
            "Funciones auxiliares definidas\n"
          ]
        }
      ],
      "source": [
        "def count_nodes(tree):\n",
        "    \"\"\"Cuenta el número total de nodos en el árbol\"\"\"\n",
        "    node_dict = tree.to_dict()\n",
        "    return sum(len(nodes) for nodes in node_dict.values())\n",
        "\n",
        "def check_leaf_values(node):\n",
        "    \"\"\"Verifica que los valores de las hojas sean válidos (0 o 1)\"\"\"\n",
        "    if getattr(node, '_is_leaf', False) or len(getattr(node, '_child_nodes', [])) == 0:\n",
        "        if hasattr(node, '_leaf_value'):\n",
        "            if getattr(node, '_leaf_value') not in [0, 1]:\n",
        "                print(f\"[ADVERTENCIA] Nodo hoja con _leaf_value inesperado: {getattr(node, '_leaf_value')}\")\n",
        "    for child in getattr(node, '_child_nodes', []):\n",
        "        check_leaf_values(child)\n",
        "\n",
        "def print_confusion(title, tree, X, y):\n",
        "    \"\"\"Imprime la matriz de confusión\"\"\"\n",
        "    y_pred = tree.predict(X, task='classification')\n",
        "    cm = confusion_matrix(y, y_pred)\n",
        "    print(f\"{title}\\n{cm}\\n\")\n",
        "\n",
        "def path_length(x, tree):\n",
        "    \"\"\"Calcula la profundidad del camino recorrido para una muestra\"\"\"\n",
        "    current = tree.root\n",
        "    x_aug = np.insert(x, 0, 1)\n",
        "    depth = 0\n",
        "    while len(current.child_nodes) > 0:\n",
        "        eval_ = current.eval_node(x_aug)\n",
        "        if eval_ <= 0:\n",
        "            next_idx = 0\n",
        "        else:\n",
        "            next_idx = 1\n",
        "        if next_idx >= len(current.child_nodes):\n",
        "            break\n",
        "        current = current.child_nodes[next_idx]\n",
        "        depth += 1\n",
        "    return depth\n",
        "\n",
        "print(\"Funciones auxiliares definidas\")"
      ]
    },
    {
      "cell_type": "markdown",
      "metadata": {
        "id": "zI0lrhuCOD8X"
      },
      "source": [
        "## 3. Carga y Preparación de Datos\n",
        "\n",
        "Cargamos el dataset de diabetes y aplicamos balanceo para evitar sesgos:"
      ]
    },
    {
      "cell_type": "code",
      "execution_count": 3,
      "metadata": {
        "id": "xEJvIReCOD8X",
        "colab": {
          "base_uri": "https://localhost:8080/"
        },
        "outputId": "fefafd5f-6bcf-4587-b539-ab1e36e39fcb"
      },
      "outputs": [
        {
          "output_type": "stream",
          "name": "stdout",
          "text": [
            "Cargando dataset de diabetes...\n",
            "Dataset balanceado:\n",
            "   - Clase 0: 35346 muestras\n",
            "   - Clase 1: 35346 muestras\n",
            "   - Total: 70692 muestras\n",
            "Datos divididos:\n",
            "   - Train: 49484 muestras\n",
            "   - Val: 10604 muestras\n",
            "   - Test: 10604 muestras\n"
          ]
        }
      ],
      "source": [
        "# Cargar dataset\n",
        "print(\"Cargando dataset de diabetes...\")\n",
        "df = pd.read_csv('cdc_diabetes_health_indicators.csv')\n",
        "\n",
        "# Limpiar datos faltantes\n",
        "if df.isnull().values.any():\n",
        "    df = df.dropna()\n",
        "    print(\"Datos faltantes eliminados\")\n",
        "\n",
        "# Balancear clases\n",
        "target_col = 'Diabetes_binary'\n",
        "class_0 = df[df[target_col] == 0]\n",
        "class_1 = df[df[target_col] == 1]\n",
        "n_min = min(len(class_0), len(class_1))\n",
        "class_0_bal = class_0.sample(n=n_min, random_state=42)\n",
        "class_1_bal = class_1.sample(n=n_min, random_state=42)\n",
        "df_bal = pd.concat([class_0_bal, class_1_bal]).sample(frac=1, random_state=42)\n",
        "\n",
        "print(f\"Dataset balanceado:\")\n",
        "print(f\"   - Clase 0: {len(class_0_bal)} muestras\")\n",
        "print(f\"   - Clase 1: {len(class_1_bal)} muestras\")\n",
        "print(f\"   - Total: {len(df_bal)} muestras\")\n",
        "\n",
        "# Preparar features y target\n",
        "X = df_bal.drop(columns=[target_col])\n",
        "y = df_bal[target_col]\n",
        "\n",
        "# Escalar datos\n",
        "scaler = StandardScaler()\n",
        "X_scaled = scaler.fit_transform(X)\n",
        "\n",
        "# Dividir en train/val/test\n",
        "X_train, X_temp, y_train, y_temp = train_test_split(X_scaled, y, test_size=0.3, random_state=42, stratify=y)\n",
        "X_val, X_test, y_val, y_test = train_test_split(X_temp, y_temp, test_size=0.5, random_state=42, stratify=y_temp)\n",
        "\n",
        "print(f\"Datos divididos:\")\n",
        "print(f\"   - Train: {X_train.shape[0]} muestras\")\n",
        "print(f\"   - Val: {X_val.shape[0]} muestras\")\n",
        "print(f\"   - Test: {X_test.shape[0]} muestras\")"
      ]
    },
    {
      "cell_type": "markdown",
      "metadata": {
        "id": "mgqVhRfVOD8X"
      },
      "source": [
        "## 4. Entrenamiento de Red Neuronal\n",
        "\n",
        "Creamos y entrenamos una red neuronal que servirá como base para generar el árbol de decisión:"
      ]
    },
    {
      "cell_type": "code",
      "execution_count": 4,
      "metadata": {
        "id": "-UfwJGgLOD8X",
        "colab": {
          "base_uri": "https://localhost:8080/"
        },
        "outputId": "dd0ff0c7-befd-4d7d-b3ac-42fb542d4616"
      },
      "outputs": [
        {
          "output_type": "stream",
          "name": "stdout",
          "text": [
            "Entrenando red neuronal...\n",
            "Epoch 1/10\n",
            "\u001b[1m1547/1547\u001b[0m \u001b[32m━━━━━━━━━━━━━━━━━━━━\u001b[0m\u001b[37m\u001b[0m \u001b[1m3s\u001b[0m 2ms/step - accuracy: 0.6689 - loss: 0.6155 - val_accuracy: 0.7437 - val_loss: 0.5200\n",
            "Epoch 2/10\n",
            "\u001b[1m1547/1547\u001b[0m \u001b[32m━━━━━━━━━━━━━━━━━━━━\u001b[0m\u001b[37m\u001b[0m \u001b[1m2s\u001b[0m 1ms/step - accuracy: 0.7437 - loss: 0.5182 - val_accuracy: 0.7458 - val_loss: 0.5151\n",
            "Epoch 3/10\n",
            "\u001b[1m1547/1547\u001b[0m \u001b[32m━━━━━━━━━━━━━━━━━━━━\u001b[0m\u001b[37m\u001b[0m \u001b[1m2s\u001b[0m 1ms/step - accuracy: 0.7487 - loss: 0.5116 - val_accuracy: 0.7459 - val_loss: 0.5127\n",
            "Epoch 4/10\n",
            "\u001b[1m1547/1547\u001b[0m \u001b[32m━━━━━━━━━━━━━━━━━━━━\u001b[0m\u001b[37m\u001b[0m \u001b[1m3s\u001b[0m 1ms/step - accuracy: 0.7499 - loss: 0.5083 - val_accuracy: 0.7460 - val_loss: 0.5113\n",
            "Epoch 5/10\n",
            "\u001b[1m1547/1547\u001b[0m \u001b[32m━━━━━━━━━━━━━━━━━━━━\u001b[0m\u001b[37m\u001b[0m \u001b[1m3s\u001b[0m 1ms/step - accuracy: 0.7467 - loss: 0.5131 - val_accuracy: 0.7474 - val_loss: 0.5102\n",
            "Epoch 6/10\n",
            "\u001b[1m1547/1547\u001b[0m \u001b[32m━━━━━━━━━━━━━━━━━━━━\u001b[0m\u001b[37m\u001b[0m \u001b[1m3s\u001b[0m 2ms/step - accuracy: 0.7492 - loss: 0.5095 - val_accuracy: 0.7496 - val_loss: 0.5099\n",
            "Epoch 7/10\n",
            "\u001b[1m1547/1547\u001b[0m \u001b[32m━━━━━━━━━━━━━━━━━━━━\u001b[0m\u001b[37m\u001b[0m \u001b[1m2s\u001b[0m 1ms/step - accuracy: 0.7533 - loss: 0.5011 - val_accuracy: 0.7473 - val_loss: 0.5094\n",
            "Epoch 8/10\n",
            "\u001b[1m1547/1547\u001b[0m \u001b[32m━━━━━━━━━━━━━━━━━━━━\u001b[0m\u001b[37m\u001b[0m \u001b[1m2s\u001b[0m 1ms/step - accuracy: 0.7528 - loss: 0.5052 - val_accuracy: 0.7499 - val_loss: 0.5094\n",
            "Epoch 9/10\n",
            "\u001b[1m1547/1547\u001b[0m \u001b[32m━━━━━━━━━━━━━━━━━━━━\u001b[0m\u001b[37m\u001b[0m \u001b[1m3s\u001b[0m 1ms/step - accuracy: 0.7496 - loss: 0.5072 - val_accuracy: 0.7489 - val_loss: 0.5100\n",
            "Epoch 10/10\n",
            "\u001b[1m1547/1547\u001b[0m \u001b[32m━━━━━━━━━━━━━━━━━━━━\u001b[0m\u001b[37m\u001b[0m \u001b[1m2s\u001b[0m 1ms/step - accuracy: 0.7548 - loss: 0.5032 - val_accuracy: 0.7480 - val_loss: 0.5094\n",
            "Red neuronal entrenada:\n",
            "   - Accuracy en validación: 0.7480\n",
            "   - Loss en validación: 0.5094\n"
          ]
        }
      ],
      "source": [
        "print(\"Entrenando red neuronal...\")\n",
        "\n",
        "# Crear modelo\n",
        "model = keras.Sequential([\n",
        "    keras.layers.Input(shape=(X_train.shape[1],)),\n",
        "    keras.layers.Dense(5, activation='relu'),\n",
        "    keras.layers.Dense(3, activation='relu'),\n",
        "    keras.layers.Dense(1, activation='sigmoid')\n",
        "])\n",
        "\n",
        "# Compilar modelo\n",
        "model.compile(optimizer='adam', loss='binary_crossentropy', metrics=['accuracy'])\n",
        "\n",
        "# Entrenar modelo\n",
        "history = model.fit(X_train, y_train, epochs=10, batch_size=32,\n",
        "                   validation_data=(X_val, y_val), verbose=1)\n",
        "\n",
        "# Evaluar rendimiento\n",
        "val_loss, val_acc = model.evaluate(X_val, y_val, verbose=0)\n",
        "print(f\"Red neuronal entrenada:\")\n",
        "print(f\"   - Accuracy en validación: {val_acc:.4f}\")\n",
        "print(f\"   - Loss en validación: {val_loss:.4f}\")"
      ]
    },
    {
      "cell_type": "markdown",
      "metadata": {
        "id": "sOtYvgHROD8Y"
      },
      "source": [
        "## 5. Conversión a Árbol de Decisión\n",
        "\n",
        "Convertimos la red neuronal en un árbol de decisión binario:"
      ]
    },
    {
      "cell_type": "code",
      "execution_count": 7,
      "metadata": {
        "id": "BhzaRi1jOD8Y",
        "colab": {
          "base_uri": "https://localhost:8080/"
        },
        "outputId": "954836c9-1665-46f4-b32d-c0d99cea225a"
      },
      "outputs": [
        {
          "output_type": "stream",
          "name": "stdout",
          "text": [
            "Construyendo árbol de decisión a partir de la red neuronal...\n",
            "Árbol creado:\n",
            "   - Número de nodos: 1023\n",
            "   - Valores únicos en predicciones: [0 1]\n"
          ]
        }
      ],
      "source": [
        "print(\"Construyendo árbol de decisión a partir de la red neuronal...\")\n",
        "\n",
        "# Crear árbol\n",
        "tree = Tree(model)\n",
        "tree.create_DT(auto_prune=False, verbose=False)\n",
        "\n",
        "# Información del árbol original\n",
        "n_before = count_nodes(tree)\n",
        "print(f\"Árbol creado:\")\n",
        "print(f\"   - Número de nodos: {n_before}\")\n",
        "#print(f\"   - Profundidad máxima: {tree.get_depth()}\")\n",
        "\n",
        "# Verificar valores de hojas\n",
        "check_leaf_values(tree.root)\n",
        "print(f\"   - Valores únicos en predicciones: {np.unique(tree.predict(X_val, task='classification'))}\")"
      ]
    },
    {
      "cell_type": "markdown",
      "metadata": {
        "id": "EtrOutBuOD8Y"
      },
      "source": [
        "## 6. Evaluación Inicial (Antes de la Poda)\n",
        "\n",
        "Evaluamos el rendimiento del árbol original:"
      ]
    },
    {
      "cell_type": "code",
      "execution_count": 8,
      "metadata": {
        "id": "6CmCEov2OD8Y",
        "colab": {
          "base_uri": "https://localhost:8080/"
        },
        "outputId": "b8193886-d25f-48de-fc89-5b75eb0bcb49"
      },
      "outputs": [
        {
          "output_type": "stream",
          "name": "stdout",
          "text": [
            "Evaluando árbol original...\n",
            "Resultados del árbol original:\n",
            "   - Accuracy: 0.7480\n",
            "   - Nodos: 1023\n",
            "   - Tiempo de inferencia: 0.6268s\n",
            "   - Profundidad media: 9.00\n",
            "Matriz de confusión ANTES de la poda:\n",
            "[[3741 1561]\n",
            " [1111 4191]]\n",
            "\n"
          ]
        }
      ],
      "source": [
        "print(\"Evaluando árbol original...\")\n",
        "\n",
        "# Métricas de rendimiento\n",
        "acc_before = tree.evaluate_model(X_val, y_val, task='classification', metrics=['accuracy'])['accuracy']\n",
        "\n",
        "# Tiempo de inferencia\n",
        "start = time.time()\n",
        "_ = tree.predict(X_val, task='classification')\n",
        "t_before = time.time() - start\n",
        "\n",
        "# Profundidad media\n",
        "profundidad_media_before = np.mean([path_length(x, tree) for x in X_scaled])\n",
        "\n",
        "print(f\"Resultados del árbol original:\")\n",
        "print(f\"   - Accuracy: {acc_before:.4f}\")\n",
        "print(f\"   - Nodos: {n_before}\")\n",
        "print(f\"   - Tiempo de inferencia: {t_before:.4f}s\")\n",
        "print(f\"   - Profundidad media: {profundidad_media_before:.2f}\")\n",
        "\n",
        "# Matriz de confusión\n",
        "print_confusion('Matriz de confusión ANTES de la poda:', tree, X_val, y_val)"
      ]
    },
    {
      "cell_type": "markdown",
      "metadata": {
        "id": "WG8g943xOD8Y"
      },
      "source": [
        "## 7. Post-Poda Clásica\n",
        "\n",
        "Aplicamos el primer método de optimización: post-poda conservadora que mantiene la precisión:"
      ]
    },
    {
      "cell_type": "code",
      "execution_count": 9,
      "metadata": {
        "id": "-virCkl5OD8Y",
        "colab": {
          "base_uri": "https://localhost:8080/"
        },
        "outputId": "b6a5fca9-8326-4e8b-f760-1b53ceb756c9"
      },
      "outputs": [
        {
          "output_type": "stream",
          "name": "stdout",
          "text": [
            "Aplicando post-poda clásica...\n",
            "   - Valores únicos tras post-poda: [0 1]\n",
            "Resultados tras post-poda clásica:\n",
            "   - Accuracy: 0.7502\n",
            "   - Nodos: 187 (reducción: 836 nodos)\n",
            "   - Tiempo de inferencia: 0.2986s\n",
            "   - Profundidad media: 6.14\n",
            "   - Cambio en accuracy: +0.0022\n",
            "Matriz de confusión DESPUÉS de post-poda:\n",
            "[[3748 1554]\n",
            " [1095 4207]]\n",
            "\n"
          ]
        }
      ],
      "source": [
        "print(\"Aplicando post-poda clásica...\")\n",
        "\n",
        "# Aplicar post-poda\n",
        "post_prune_tree(tree, X_val, y_val, task='classification', metric='accuracy')\n",
        "\n",
        "# Verificar valores de hojas\n",
        "check_leaf_values(tree.root)\n",
        "print(f\"   - Valores únicos tras post-poda: {np.unique(tree.predict(X_val, task='classification'))}\")\n",
        "\n",
        "# Evaluar resultados\n",
        "acc_post = tree.evaluate_model(X_val, y_val, task='classification', metrics=['accuracy'])['accuracy']\n",
        "n_post = count_nodes(tree)\n",
        "\n",
        "start = time.time()\n",
        "_ = tree.predict(X_val, task='classification')\n",
        "t_post = time.time() - start\n",
        "\n",
        "profundidad_media_post = np.mean([path_length(x, tree) for x in X_scaled])\n",
        "\n",
        "print(f\"Resultados tras post-poda clásica:\")\n",
        "print(f\"   - Accuracy: {acc_post:.4f}\")\n",
        "print(f\"   - Nodos: {n_post} (reducción: {n_before - n_post} nodos)\")\n",
        "print(f\"   - Tiempo de inferencia: {t_post:.4f}s\")\n",
        "print(f\"   - Profundidad media: {profundidad_media_post:.2f}\")\n",
        "print(f\"   - Cambio en accuracy: {acc_post - acc_before:+.4f}\")\n",
        "\n",
        "# Matriz de confusión\n",
        "print_confusion('Matriz de confusión DESPUÉS de post-poda:', tree, X_val, y_val)"
      ]
    },
    {
      "cell_type": "markdown",
      "metadata": {
        "id": "76w4ruwQOD8Z"
      },
      "source": [
        "## 8. Poda Greedy para Velocidad\n",
        "\n",
        "Aplicamos el segundo método: poda agresiva que permite pequeña pérdida de precisión:"
      ]
    },
    {
      "cell_type": "code",
      "execution_count": 19,
      "metadata": {
        "id": "VWJXNRsqOD8Z",
        "colab": {
          "base_uri": "https://localhost:8080/"
        },
        "outputId": "620860a7-5759-40fa-997a-568936558853"
      },
      "outputs": [
        {
          "output_type": "stream",
          "name": "stdout",
          "text": [
            "Aplicando poda greedy para velocidad...\n",
            "   - Tolerancia configurada: 0.00010\n",
            "   - Valores únicos tras greedy: [0 1]\n",
            "Resultados tras poda greedy:\n",
            "   - Accuracy: 0.6938\n",
            "   - Nodos: 73 (reducción total: 950 nodos)\n",
            "   - Tiempo de inferencia: 0.2542s\n",
            "   - Profundidad media: 4.91\n",
            "   - Cambio en accuracy: -0.0542\n",
            "Matriz de confusión DESPUÉS de poda greedy:\n",
            "[[4138 1164]\n",
            " [2083 3219]]\n",
            "\n"
          ]
        }
      ],
      "source": [
        "print(\"Aplicando poda greedy para velocidad...\")\n",
        "\n",
        "# Configurar tolerancia (0.01% de pérdida máxima)\n",
        "tolerance = 0.000095\n",
        "print(f\"   - Tolerancia configurada: {tolerance:.5f}\")\n",
        "\n",
        "# Aplicar poda greedy\n",
        "prune_tree_for_speed(tree, X_val, y_val, task='classification', metric='accuracy', tolerance=tolerance)\n",
        "\n",
        "# Verificar valores de hojas\n",
        "check_leaf_values(tree.root)\n",
        "print(f\"   - Valores únicos tras greedy: {np.unique(tree.predict(X_val, task='classification'))}\")\n",
        "\n",
        "# Evaluar resultados\n",
        "acc_greedy = tree.evaluate_model(X_val, y_val, task='classification', metrics=['accuracy'])['accuracy']\n",
        "n_greedy = count_nodes(tree)\n",
        "\n",
        "start = time.time()\n",
        "_ = tree.predict(X_val, task='classification')\n",
        "t_greedy = time.time() - start\n",
        "\n",
        "profundidad_media_greedy = np.mean([path_length(x, tree) for x in X_scaled])\n",
        "\n",
        "print(f\"Resultados tras poda greedy:\")\n",
        "print(f\"   - Accuracy: {acc_greedy:.4f}\")\n",
        "print(f\"   - Nodos: {n_greedy} (reducción total: {n_before - n_greedy} nodos)\")\n",
        "print(f\"   - Tiempo de inferencia: {t_greedy:.4f}s\")\n",
        "print(f\"   - Profundidad media: {profundidad_media_greedy:.2f}\")\n",
        "print(f\"   - Cambio en accuracy: {acc_greedy - acc_before:+.4f}\")\n",
        "\n",
        "# Matriz de confusión\n",
        "print_confusion('Matriz de confusión DESPUÉS de poda greedy:', tree, X_val, y_val)"
      ]
    },
    {
      "cell_type": "markdown",
      "metadata": {
        "id": "ZgOEKxrROD8Z"
      },
      "source": [
        "## 9. Comparación Visual de Resultados\n",
        "\n",
        "Visualizamos las mejoras obtenidas:"
      ]
    },
    {
      "cell_type": "code",
      "execution_count": 22,
      "metadata": {
        "id": "b4TbKpSMOD8Z",
        "colab": {
          "base_uri": "https://localhost:8080/",
          "height": 971
        },
        "outputId": "7690422c-236f-4014-9e77-3bd4b71b1019"
      },
      "outputs": [
        {
          "output_type": "display_data",
          "data": {
            "text/plain": [
              "<Figure size 1500x1000 with 4 Axes>"
            ],
            "image/png": "[encoded data removed]"
          },
          "metadata": {}
        },
        {
          "output_type": "stream",
          "name": "stdout",
          "text": [
            "RESUMEN COMPARATIVO:\n",
            "========================================================================================================================\n",
            "Etapa        Accuracy   Nodos    Cambio Nodos (%)   Tiempo     Cambio Tiempo (%)  Profundidad  Cambio Prof. (%)  \n",
            "------------------------------------------------------------------------------------------------------------------------\n",
            "Original     0.7480     1023     -                  0.6268     -                  9.00         -                 \n",
            "Post-poda    0.7502     187      ▼ 81.7             0.3169     ▼ 49.4             6.14         ▼ 31.8            \n",
            "Greedy       0.6938     73       ▼ 92.9 vs Original 0.2571     ▼ 59.0 vs Original 4.91         ▼ 45.4 vs Original\n",
            "                                 ▼ 61.0 vs Post-poda            ▼ 18.9 vs Post-poda              ▼ 20.0 vs Post-poda\n",
            "========================================================================================================================\n"
          ]
        }
      ],
      "source": [
        "# Preparar datos para visualización\n",
        "etapas = ['Original', 'Post-poda', 'Greedy']\n",
        "accuracies = [acc_before, acc_post, acc_greedy]\n",
        "nodos = [n_before, n_post, n_greedy]\n",
        "tiempos = [t_before, t_post, t_greedy]\n",
        "profundidades = [profundidad_media_before, profundidad_media_post, profundidad_media_greedy]\n",
        "\n",
        "# Calcular cambios porcentuales\n",
        "nodos_pct_change_post = ((n_before - n_post) / n_before) * 100 if n_before != 0 else 0\n",
        "nodos_pct_change_greedy_vs_original = ((n_before - n_greedy) / n_before) * 100 if n_before != 0 else 0\n",
        "nodos_pct_change_greedy_vs_post = ((n_post - n_greedy) / n_post) * 100 if n_post != 0 else 0\n",
        "\n",
        "tiempos_pct_change_post = ((t_before - t_post) / t_before) * 100 if t_before != 0 else 0\n",
        "tiempos_pct_change_greedy_vs_original = ((t_before - t_greedy) / t_before) * 100 if t_before != 0 else 0\n",
        "tiempos_pct_change_greedy_vs_post = ((t_post - t_greedy) / t_post) * 100 if t_post != 0 else 0\n",
        "\n",
        "profundidades_pct_change_post = ((profundidad_media_before - profundidad_media_post) / profundidad_media_before) * 100 if profundidad_media_before != 0 else 0\n",
        "profundidades_pct_change_greedy_vs_original = ((profundidad_media_before - profundidad_media_greedy) / profundidad_media_before) * 100 if profundidad_media_before != 0 else 0\n",
        "profundidades_pct_change_greedy_vs_post = ((profundidad_media_post - profundidad_media_greedy) / profundidad_media_post) * 100 if profundidad_media_post != 0 else 0\n",
        "\n",
        "\n",
        "# Crear figura con subplots\n",
        "fig, ((ax1, ax2), (ax3, ax4)) = plt.subplots(2, 2, figsize=(15, 10))\n",
        "\n",
        "# 1. Accuracy\n",
        "ax1.bar(etapas, accuracies, color=['#FF6B6B', '#4ECDC4', '#45B7D1'])\n",
        "ax1.set_title('Accuracy por Etapa', fontsize=14, fontweight='bold')\n",
        "ax1.set_ylabel('Accuracy')\n",
        "ax1.set_ylim(0.6, 0.8) # Ajustar el límite inferior para mejor visualización\n",
        "for i, v in enumerate(accuracies):\n",
        "    ax1.text(i, v + 0.005, f'{v:.4f}', ha='center', fontweight='bold')\n",
        "\n",
        "# 2. Número de nodos\n",
        "ax2.bar(etapas, nodos, color=['#FF6B6B', '#4ECDC4', '#45B7D1'])\n",
        "ax2.set_title('Número de Nodos por Etapa', fontsize=14, fontweight='bold')\n",
        "ax2.set_ylabel('Nodos')\n",
        "for i, v in enumerate(nodos):\n",
        "    ax2.text(i, v + 10, f'{v}', ha='center', fontweight='bold')\n",
        "# Añadir porcentajes de cambio\n",
        "ax2.text(1, nodos[1] + 50, f'▼ {nodos_pct_change_post:.1f}%', ha='center', color='green', fontweight='bold')\n",
        "ax2.text(2, nodos[2] + 80, f'▼ {nodos_pct_change_greedy_vs_original:.1f}% vs Original', ha='center', color='green', fontweight='bold') # Adjusted vertical position\n",
        "ax2.text(2, nodos[2] + 40, f'▼ {nodos_pct_change_greedy_vs_post:.1f}% vs Post-poda', ha='center', color='green', fontweight='bold') # Adjusted vertical position\n",
        "\n",
        "\n",
        "# 3. Tiempo de inferencia\n",
        "ax3.bar(etapas, tiempos, color=['#FF6B6B', '#4ECDC4', '#45B7D1'])\n",
        "ax3.set_title('Tiempo de Inferencia por Etapa', fontsize=14, fontweight='bold')\n",
        "ax3.set_ylabel('Tiempo (s)')\n",
        "for i, v in enumerate(tiempos):\n",
        "    ax3.text(i, v + 0.01, f'{v:.4f}s', ha='center', fontweight='bold')\n",
        "# Añadir porcentajes de cambio\n",
        "ax3.text(1, tiempos[1] + 0.05, f'▼ {tiempos_pct_change_post:.1f}%', ha='center', color='green', fontweight='bold')\n",
        "ax3.text(2, tiempos[2] + 0.1, f'▼ {tiempos_pct_change_greedy_vs_original:.1f}% vs Original', ha='center', color='green', fontweight='bold') # Adjusted vertical position\n",
        "ax3.text(2, tiempos[2] + 0.04, f'▼ {tiempos_pct_change_greedy_vs_post:.1f}% vs Post-poda', ha='center', color='green', fontweight='bold') # Adjusted vertical position\n",
        "\n",
        "\n",
        "# 4. Profundidad media\n",
        "ax4.bar(etapas, profundidades, color=['#FF6B6B', '#4ECDC4', '#45B7D1'])\n",
        "ax4.set_title('Profundidad Media por Etapa', fontsize=14, fontweight='bold')\n",
        "ax4.set_ylabel('Profundidad')\n",
        "for i, v in enumerate(profundidades):\n",
        "    ax4.text(i, v + 0.2, f'{v:.2f}', ha='center', fontweight='bold')\n",
        "# Añadir porcentajes de cambio\n",
        "ax4.text(1, profundidades[1] + 0.5, f'▼ {profundidades_pct_change_post:.1f}%', ha='center', color='green', fontweight='bold')\n",
        "ax4.text(2, profundidades[2] + 0.8, f'▼ {profundidades_pct_change_greedy_vs_original:.1f}% vs Original', ha='center', color='green', fontweight='bold') # Adjusted vertical position\n",
        "ax4.text(2, profundidades[2] + 0.4, f'▼ {profundidades_pct_change_greedy_vs_post:.1f}% vs Post-poda', ha='center', color='green', fontweight='bold') # Adjusted vertical position\n",
        "\n",
        "\n",
        "plt.tight_layout()\n",
        "plt.show()\n",
        "\n",
        "# Tabla resumen\n",
        "print(\"RESUMEN COMPARATIVO:\")\n",
        "print(\"=\" * 120)\n",
        "print(f\"{'Etapa':<12} {'Accuracy':<10} {'Nodos':<8} {'Cambio Nodos (%)':<18} {'Tiempo':<10} {'Cambio Tiempo (%)':<18} {'Profundidad':<12} {'Cambio Prof. (%)':<18}\")\n",
        "print(\"-\" * 120)\n",
        "print(f\"{'Original':<12} {acc_before:<10.4f} {n_before:<8} {'-':<18} {t_before:<10.4f} {'-':<18} {profundidad_media_before:<12.2f} {'-':<18}\")\n",
        "print(f\"{'Post-poda':<12} {acc_post:<10.4f} {n_post:<8} {f'▼ {nodos_pct_change_post:.1f}':<18} {t_post:<10.4f} {f'▼ {tiempos_pct_change_post:.1f}':<18} {profundidad_media_post:<12.2f} {f'▼ {profundidades_pct_change_post:.1f}':<18}\")\n",
        "print(f\"{'Greedy':<12} {acc_greedy:<10.4f} {n_greedy:<8} {f'▼ {nodos_pct_change_greedy_vs_original:.1f} vs Original':<18} {t_greedy:<10.4f} {f'▼ {tiempos_pct_change_greedy_vs_original:.1f} vs Original':<18} {profundidad_media_greedy:<12.2f} {f'▼ {profundidades_pct_change_greedy_vs_original:.1f} vs Original':<18}\")\n",
        "print(f\"{'':<12} {'':<10} {'':<8} {f'▼ {nodos_pct_change_greedy_vs_post:.1f} vs Post-poda':<18} {'':<10} {f'▼ {tiempos_pct_change_greedy_vs_post:.1f} vs Post-poda':<18} {'':<12} {f'▼ {profundidades_pct_change_greedy_vs_post:.1f} vs Post-poda':<18}\")\n",
        "\n",
        "print(\"=\" * 120)"
      ]
    },
    {
      "cell_type": "markdown",
      "metadata": {
        "id": "hQt5U3SwOD8a"
      },
      "source": [
        "## 11. Conclusiones\n",
        "\n",
        "### Resumen de Mejoras Obtenidas:\n",
        "\n",
        "1. **Post-poda clásica**:\n",
        "   - Mantiene o mejora la precisión\n",
        "   - Reduce significativamente el número de nodos\n",
        "   - Conservadora y robusta\n",
        "\n",
        "2. **Poda greedy**:\n",
        "   - Reducción adicional de nodos\n",
        "   - Control de pérdida de precisión\n",
        "   - Mejora en tiempos de inferencia\n",
        "\n",
        "### Comparación de Métodos:\n",
        "\n",
        "| Aspecto | Post-Poda Clásica | Poda Greedy |\n",
        "|---------|-------------------|-------------|\n",
        "| **Conservadurismo** | Alta | Baja |\n",
        "| **Reducción de nodos** | Moderada | Alta |\n",
        "| **Mantenimiento de precisión** | Excelente | Variable |\n",
        "| **Facilidad de uso** | Alta | Media |\n",
        "| **Ajuste de parámetros** | Mínimo | Requerido |\n",
        "| **Robustez** | Alta | Media |\n",
        "\n",
        "### Recomendaciones:\n",
        "\n",
        "- **Para producción**: Usar post-poda clásica\n",
        "- **Para máxima velocidad**: Usar poda greedy\n",
        "- **Para interpretabilidad**: Usar solo post-poda clásica\n",
        "\n",
        "### Próximos Pasos:\n",
        "\n",
        "1. Probar con diferentes datasets\n",
        "2. Ajustar parámetros de tolerancia\n",
        "3. Implementar validación cruzada\n",
        "4. Comparar con otros métodos de optimización"
      ]
    }
  ],
  "metadata": {
    "kernelspec": {
      "display_name": "Python 3",
      "language": "python",
      "name": "python3"
    },
    "language_info": {
      "codemirror_mode": {
        "name": "ipython",
        "version": 3
      },
      "file_extension": ".py",
      "mimetype": "text/x-python",
      "name": "python",
      "nbconvert_exporter": "python",
      "pygments_lexer": "ipython3",
      "version": "3.12.0"
    },
    "colab": {
      "provenance": []
    }
  },
  "nbformat": 4,
  "nbformat_minor": 0
}